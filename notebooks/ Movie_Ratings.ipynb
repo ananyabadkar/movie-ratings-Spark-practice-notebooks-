{
  "nbformat": 4,
  "nbformat_minor": 5,
  "metadata": {
    "colab": {
      "provenance": [],
      "include_colab_link": true
    },
    "language_info": {
      "name": "python"
    },
    "kernelspec": {
      "name": "python3",
      "display_name": "Python 3"
    }
  },
  "cells": [
    {
      "cell_type": "markdown",
      "metadata": {
        "id": "view-in-github",
        "colab_type": "text"
      },
      "source": [
        "<a href=\"https://colab.research.google.com/github/ananyabadkar/movie-ratings-Spark-practice-notebooks-/blob/main/notebooks/%20Movie_Ratings.ipynb\" target=\"_parent\"><img src=\"https://colab.research.google.com/assets/colab-badge.svg\" alt=\"Open In Colab\"/></a>"
      ]
    },
    {
      "id": "b3a76006",
      "cell_type": "markdown",
      "source": [
        "# 🚀 Movie Ratings Analysis in Google Colab\n",
        "This notebook replaces Hadoop + Sandbox setup with simple **mrjob** and **PySpark** in Colab.\n",
        "Upload your dataset (`ratings.data`) and run the steps."
      ],
      "metadata": {
        "id": "b3a76006"
      }
    },
    {
      "cell_type": "code",
      "source": [
        "%%writefile movie_rating_counts.py\n",
        "from mrjob.job import MRJob\n",
        "\n",
        "class MovieRatingCounts(MRJob):\n",
        "    def mapper(self, _, line):\n",
        "        # Split the input line into parts\n",
        "        user, movie, rating, timestamp = line.split('\\t')\n",
        "        # Emit movie with count 1\n",
        "        yield movie, 1\n",
        "\n",
        "    def reducer(self, movie, counts):\n",
        "        # Sum up all the counts per movie\n",
        "        yield movie, sum(counts)\n",
        "\n",
        "if __name__ == '__main__':\n",
        "    MovieRatingCounts.run()"
      ],
      "metadata": {
        "colab": {
          "base_uri": "https://localhost:8080/"
        },
        "id": "Lu1x1ZX-6F8S",
        "outputId": "82f4e0b5-5411-4e74-e097-3de7fcd2f13c"
      },
      "id": "Lu1x1ZX-6F8S",
      "execution_count": null,
      "outputs": [
        {
          "output_type": "stream",
          "name": "stdout",
          "text": [
            "Writing movie_rating_counts.py\n"
          ]
        }
      ]
    },
    {
      "cell_type": "code",
      "source": [
        "!python movie_rating_counts.py ratings.data > movie_counts.txt\n",
        "!head movie_counts.txt\n"
      ],
      "metadata": {
        "colab": {
          "base_uri": "https://localhost:8080/"
        },
        "id": "KbeKturn6MTt",
        "outputId": "5fbcf5e3-7438-4930-a245-b214220a0050"
      },
      "id": "KbeKturn6MTt",
      "execution_count": null,
      "outputs": [
        {
          "output_type": "stream",
          "name": "stdout",
          "text": [
            "No configs found; falling back on auto-configuration\n",
            "No configs specified for inline runner\n",
            "Creating temp directory /tmp/movie_rating_counts.root.20250903.184857.451509\n",
            "Running step 1 of 1...\n",
            "job output is in /tmp/movie_rating_counts.root.20250903.184857.451509/output\n",
            "Streaming final output from /tmp/movie_rating_counts.root.20250903.184857.451509/output...\n",
            "Removing temp directory /tmp/movie_rating_counts.root.20250903.184857.451509...\n",
            "\"90\"\t1\n",
            "\"40\"\t1\n",
            "\"50\"\t2\n",
            "\"10\"\t1\n",
            "\"20\"\t1\n",
            "\"30\"\t1\n",
            "\"60\"\t1\n",
            "\"70\"\t1\n",
            "\"80\"\t1\n"
          ]
        }
      ]
    },
    {
      "id": "b9fd64dd",
      "cell_type": "code",
      "metadata": {
        "colab": {
          "base_uri": "https://localhost:8080/"
        },
        "id": "b9fd64dd",
        "outputId": "17a11644-a6f1-4aa1-da40-628b4faddc70"
      },
      "execution_count": null,
      "source": [
        "!pip install mrjob pyspark"
      ],
      "outputs": [
        {
          "output_type": "stream",
          "name": "stdout",
          "text": [
            "Collecting mrjob\n",
            "  Downloading mrjob-0.7.4-py2.py3-none-any.whl.metadata (7.3 kB)\n",
            "Requirement already satisfied: pyspark in /usr/local/lib/python3.12/dist-packages (3.5.1)\n",
            "Requirement already satisfied: PyYAML>=3.10 in /usr/local/lib/python3.12/dist-packages (from mrjob) (6.0.2)\n",
            "Requirement already satisfied: py4j==0.10.9.7 in /usr/local/lib/python3.12/dist-packages (from pyspark) (0.10.9.7)\n",
            "Downloading mrjob-0.7.4-py2.py3-none-any.whl (439 kB)\n",
            "\u001b[?25l   \u001b[90m━━━━━━━━━━━━━━━━━━━━━━━━━━━━━━━━━━━━━━━━\u001b[0m \u001b[32m0.0/439.6 kB\u001b[0m \u001b[31m?\u001b[0m eta \u001b[36m-:--:--\u001b[0m\r\u001b[2K   \u001b[91m━━━━━━━━━━━━━━━━━━━━━━━━━━━━━━━━━━━━━━━\u001b[0m\u001b[90m╺\u001b[0m \u001b[32m430.1/439.6 kB\u001b[0m \u001b[31m17.2 MB/s\u001b[0m eta \u001b[36m0:00:01\u001b[0m\r\u001b[2K   \u001b[90m━━━━━━━━━━━━━━━━━━━━━━━━━━━━━━━━━━━━━━━━\u001b[0m \u001b[32m439.6/439.6 kB\u001b[0m \u001b[31m11.7 MB/s\u001b[0m eta \u001b[36m0:00:00\u001b[0m\n",
            "\u001b[?25hInstalling collected packages: mrjob\n",
            "Successfully installed mrjob-0.7.4\n"
          ]
        }
      ]
    },
    {
      "id": "8218f9b0",
      "cell_type": "code",
      "metadata": {
        "colab": {
          "base_uri": "https://localhost:8080/",
          "height": 73
        },
        "id": "8218f9b0",
        "outputId": "e1a44add-dd65-4d7c-d747-aacebe91fd58"
      },
      "execution_count": null,
      "source": [
        "from google.colab import files\n",
        "uploaded = files.upload()   # Upload ratings.data"
      ],
      "outputs": [
        {
          "output_type": "display_data",
          "data": {
            "text/plain": [
              "<IPython.core.display.HTML object>"
            ],
            "text/html": [
              "\n",
              "     <input type=\"file\" id=\"files-adea355d-4e6c-406c-b8c9-bce95a2d8a6d\" name=\"files[]\" multiple disabled\n",
              "        style=\"border:none\" />\n",
              "     <output id=\"result-adea355d-4e6c-406c-b8c9-bce95a2d8a6d\">\n",
              "      Upload widget is only available when the cell has been executed in the\n",
              "      current browser session. Please rerun this cell to enable.\n",
              "      </output>\n",
              "      <script>// Copyright 2017 Google LLC\n",
              "//\n",
              "// Licensed under the Apache License, Version 2.0 (the \"License\");\n",
              "// you may not use this file except in compliance with the License.\n",
              "// You may obtain a copy of the License at\n",
              "//\n",
              "//      http://www.apache.org/licenses/LICENSE-2.0\n",
              "//\n",
              "// Unless required by applicable law or agreed to in writing, software\n",
              "// distributed under the License is distributed on an \"AS IS\" BASIS,\n",
              "// WITHOUT WARRANTIES OR CONDITIONS OF ANY KIND, either express or implied.\n",
              "// See the License for the specific language governing permissions and\n",
              "// limitations under the License.\n",
              "\n",
              "/**\n",
              " * @fileoverview Helpers for google.colab Python module.\n",
              " */\n",
              "(function(scope) {\n",
              "function span(text, styleAttributes = {}) {\n",
              "  const element = document.createElement('span');\n",
              "  element.textContent = text;\n",
              "  for (const key of Object.keys(styleAttributes)) {\n",
              "    element.style[key] = styleAttributes[key];\n",
              "  }\n",
              "  return element;\n",
              "}\n",
              "\n",
              "// Max number of bytes which will be uploaded at a time.\n",
              "const MAX_PAYLOAD_SIZE = 100 * 1024;\n",
              "\n",
              "function _uploadFiles(inputId, outputId) {\n",
              "  const steps = uploadFilesStep(inputId, outputId);\n",
              "  const outputElement = document.getElementById(outputId);\n",
              "  // Cache steps on the outputElement to make it available for the next call\n",
              "  // to uploadFilesContinue from Python.\n",
              "  outputElement.steps = steps;\n",
              "\n",
              "  return _uploadFilesContinue(outputId);\n",
              "}\n",
              "\n",
              "// This is roughly an async generator (not supported in the browser yet),\n",
              "// where there are multiple asynchronous steps and the Python side is going\n",
              "// to poll for completion of each step.\n",
              "// This uses a Promise to block the python side on completion of each step,\n",
              "// then passes the result of the previous step as the input to the next step.\n",
              "function _uploadFilesContinue(outputId) {\n",
              "  const outputElement = document.getElementById(outputId);\n",
              "  const steps = outputElement.steps;\n",
              "\n",
              "  const next = steps.next(outputElement.lastPromiseValue);\n",
              "  return Promise.resolve(next.value.promise).then((value) => {\n",
              "    // Cache the last promise value to make it available to the next\n",
              "    // step of the generator.\n",
              "    outputElement.lastPromiseValue = value;\n",
              "    return next.value.response;\n",
              "  });\n",
              "}\n",
              "\n",
              "/**\n",
              " * Generator function which is called between each async step of the upload\n",
              " * process.\n",
              " * @param {string} inputId Element ID of the input file picker element.\n",
              " * @param {string} outputId Element ID of the output display.\n",
              " * @return {!Iterable<!Object>} Iterable of next steps.\n",
              " */\n",
              "function* uploadFilesStep(inputId, outputId) {\n",
              "  const inputElement = document.getElementById(inputId);\n",
              "  inputElement.disabled = false;\n",
              "\n",
              "  const outputElement = document.getElementById(outputId);\n",
              "  outputElement.innerHTML = '';\n",
              "\n",
              "  const pickedPromise = new Promise((resolve) => {\n",
              "    inputElement.addEventListener('change', (e) => {\n",
              "      resolve(e.target.files);\n",
              "    });\n",
              "  });\n",
              "\n",
              "  const cancel = document.createElement('button');\n",
              "  inputElement.parentElement.appendChild(cancel);\n",
              "  cancel.textContent = 'Cancel upload';\n",
              "  const cancelPromise = new Promise((resolve) => {\n",
              "    cancel.onclick = () => {\n",
              "      resolve(null);\n",
              "    };\n",
              "  });\n",
              "\n",
              "  // Wait for the user to pick the files.\n",
              "  const files = yield {\n",
              "    promise: Promise.race([pickedPromise, cancelPromise]),\n",
              "    response: {\n",
              "      action: 'starting',\n",
              "    }\n",
              "  };\n",
              "\n",
              "  cancel.remove();\n",
              "\n",
              "  // Disable the input element since further picks are not allowed.\n",
              "  inputElement.disabled = true;\n",
              "\n",
              "  if (!files) {\n",
              "    return {\n",
              "      response: {\n",
              "        action: 'complete',\n",
              "      }\n",
              "    };\n",
              "  }\n",
              "\n",
              "  for (const file of files) {\n",
              "    const li = document.createElement('li');\n",
              "    li.append(span(file.name, {fontWeight: 'bold'}));\n",
              "    li.append(span(\n",
              "        `(${file.type || 'n/a'}) - ${file.size} bytes, ` +\n",
              "        `last modified: ${\n",
              "            file.lastModifiedDate ? file.lastModifiedDate.toLocaleDateString() :\n",
              "                                    'n/a'} - `));\n",
              "    const percent = span('0% done');\n",
              "    li.appendChild(percent);\n",
              "\n",
              "    outputElement.appendChild(li);\n",
              "\n",
              "    const fileDataPromise = new Promise((resolve) => {\n",
              "      const reader = new FileReader();\n",
              "      reader.onload = (e) => {\n",
              "        resolve(e.target.result);\n",
              "      };\n",
              "      reader.readAsArrayBuffer(file);\n",
              "    });\n",
              "    // Wait for the data to be ready.\n",
              "    let fileData = yield {\n",
              "      promise: fileDataPromise,\n",
              "      response: {\n",
              "        action: 'continue',\n",
              "      }\n",
              "    };\n",
              "\n",
              "    // Use a chunked sending to avoid message size limits. See b/62115660.\n",
              "    let position = 0;\n",
              "    do {\n",
              "      const length = Math.min(fileData.byteLength - position, MAX_PAYLOAD_SIZE);\n",
              "      const chunk = new Uint8Array(fileData, position, length);\n",
              "      position += length;\n",
              "\n",
              "      const base64 = btoa(String.fromCharCode.apply(null, chunk));\n",
              "      yield {\n",
              "        response: {\n",
              "          action: 'append',\n",
              "          file: file.name,\n",
              "          data: base64,\n",
              "        },\n",
              "      };\n",
              "\n",
              "      let percentDone = fileData.byteLength === 0 ?\n",
              "          100 :\n",
              "          Math.round((position / fileData.byteLength) * 100);\n",
              "      percent.textContent = `${percentDone}% done`;\n",
              "\n",
              "    } while (position < fileData.byteLength);\n",
              "  }\n",
              "\n",
              "  // All done.\n",
              "  yield {\n",
              "    response: {\n",
              "      action: 'complete',\n",
              "    }\n",
              "  };\n",
              "}\n",
              "\n",
              "scope.google = scope.google || {};\n",
              "scope.google.colab = scope.google.colab || {};\n",
              "scope.google.colab._files = {\n",
              "  _uploadFiles,\n",
              "  _uploadFilesContinue,\n",
              "};\n",
              "})(self);\n",
              "</script> "
            ]
          },
          "metadata": {}
        },
        {
          "output_type": "stream",
          "name": "stdout",
          "text": [
            "Saving ratings.data to ratings.data\n"
          ]
        }
      ]
    },
    {
      "id": "c757ce12",
      "cell_type": "markdown",
      "source": [
        "## 🔹 MapReduce with `mrjob`"
      ],
      "metadata": {
        "id": "c757ce12"
      }
    },
    {
      "id": "4da63219",
      "cell_type": "code",
      "metadata": {
        "colab": {
          "base_uri": "https://localhost:8080/"
        },
        "id": "4da63219",
        "outputId": "6ccd9542-4046-46ed-deaf-ceb2918f9422"
      },
      "execution_count": null,
      "source": [
        "%%writefile movie_ratings.py\n",
        "\n",
        "from mrjob.job import MRJob\n",
        "\n",
        "class MovieRatings(MRJob):\n",
        "    def mapper(self, _, line):\n",
        "        try:\n",
        "            user, movie, rating, timestamp = line.split('\\t')\n",
        "            yield movie, int(rating)\n",
        "        except:\n",
        "            pass\n",
        "\n",
        "    def reducer(self, movie, ratings):\n",
        "        ratings_list = list(ratings)\n",
        "        yield movie, sum(ratings_list)/len(ratings_list)\n",
        "\n",
        "if __name__ == '__main__':\n",
        "    MovieRatings.run()\n"
      ],
      "outputs": [
        {
          "output_type": "stream",
          "name": "stdout",
          "text": [
            "Writing movie_ratings.py\n"
          ]
        }
      ]
    },
    {
      "id": "9699f0f7",
      "cell_type": "code",
      "metadata": {
        "colab": {
          "base_uri": "https://localhost:8080/"
        },
        "id": "9699f0f7",
        "outputId": "f265fb1f-715c-4a33-a4f2-22011fddd892"
      },
      "execution_count": null,
      "source": [
        "!python movie_ratings.py ratings.data > output.txt\n",
        "!head output.txt"
      ],
      "outputs": [
        {
          "output_type": "stream",
          "name": "stdout",
          "text": [
            "No configs found; falling back on auto-configuration\n",
            "No configs specified for inline runner\n",
            "Creating temp directory /tmp/movie_ratings.root.20250903.180348.656781\n",
            "Running step 1 of 1...\n",
            "job output is in /tmp/movie_ratings.root.20250903.180348.656781/output\n",
            "Streaming final output from /tmp/movie_ratings.root.20250903.180348.656781/output...\n",
            "Removing temp directory /tmp/movie_ratings.root.20250903.180348.656781...\n",
            "\"90\"\t2.0\n",
            "\"40\"\t4.0\n",
            "\"50\"\t4.5\n",
            "\"10\"\t2.0\n",
            "\"20\"\t5.0\n",
            "\"30\"\t3.0\n",
            "\"60\"\t5.0\n",
            "\"70\"\t3.0\n",
            "\"80\"\t4.0\n"
          ]
        }
      ]
    },
    {
      "id": "a9550950",
      "cell_type": "markdown",
      "source": [
        "## 🔹 Analysis with PySpark (Modern Way)"
      ],
      "metadata": {
        "id": "a9550950"
      }
    },
    {
      "id": "7d2d0e0a",
      "cell_type": "code",
      "metadata": {
        "colab": {
          "base_uri": "https://localhost:8080/"
        },
        "id": "7d2d0e0a",
        "outputId": "5373d815-dd6a-4a4c-a518-49bebb12a61c"
      },
      "execution_count": null,
      "source": [
        "from pyspark.sql import SparkSession\n",
        "\n",
        "spark = SparkSession.builder.appName('MovieRatings').getOrCreate()\n",
        "\n",
        "df = spark.read.csv('ratings.data', sep='\\t', inferSchema=True)\n",
        "df = df.withColumnRenamed('_c0', 'user') \\\n",
        "       .withColumnRenamed('_c1', 'movie') \\\n",
        "       .withColumnRenamed('_c2', 'rating') \\\n",
        "       .withColumnRenamed('_c3', 'timestamp')\n",
        "\n",
        "avg_ratings = df.groupBy('movie').avg('rating')\n",
        "avg_ratings.show(10)"
      ],
      "outputs": [
        {
          "output_type": "stream",
          "name": "stdout",
          "text": [
            "+-----+-----------+\n",
            "|movie|avg(rating)|\n",
            "+-----+-----------+\n",
            "|   20|        5.0|\n",
            "|   40|        4.0|\n",
            "|   10|        2.0|\n",
            "|   50|        4.5|\n",
            "|   80|        4.0|\n",
            "|   70|        3.0|\n",
            "|   60|        5.0|\n",
            "|   90|        2.0|\n",
            "|   30|        3.0|\n",
            "+-----+-----------+\n",
            "\n"
          ]
        }
      ]
    }
  ]
}