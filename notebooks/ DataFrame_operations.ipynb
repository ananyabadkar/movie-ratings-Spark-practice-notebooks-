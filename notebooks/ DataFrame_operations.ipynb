{
  "nbformat": 4,
  "nbformat_minor": 0,
  "metadata": {
    "colab": {
      "provenance": [],
      "authorship_tag": "ABX9TyOfQ7pFbPuo08/8m7Q73zo7",
      "include_colab_link": true
    },
    "kernelspec": {
      "name": "python3",
      "display_name": "Python 3"
    },
    "language_info": {
      "name": "python"
    }
  },
  "cells": [
    {
      "cell_type": "markdown",
      "metadata": {
        "id": "view-in-github",
        "colab_type": "text"
      },
      "source": [
        "<a href=\"https://colab.research.google.com/github/ananyabadkar/movie-ratings-Spark-practice-notebooks-/blob/main/notebooks/%20DataFrame_operations.ipynb\" target=\"_parent\"><img src=\"https://colab.research.google.com/assets/colab-badge.svg\" alt=\"Open In Colab\"/></a>"
      ]
    },
    {
      "cell_type": "code",
      "execution_count": null,
      "metadata": {
        "id": "R2r5dor7zyAg"
      },
      "outputs": [],
      "source": [
        "!pip install pyspark -q"
      ]
    },
    {
      "cell_type": "code",
      "source": [
        "from pyspark.sql import SparkSession\n",
        "from pyspark.sql.functions import col, lit, count,sum, avg"
      ],
      "metadata": {
        "id": "s0UUBeoH0aJs"
      },
      "execution_count": null,
      "outputs": []
    },
    {
      "cell_type": "code",
      "source": [
        "spark = SparkSession.builder.appName(\"pyspark_tutorial\").getOrCreate()"
      ],
      "metadata": {
        "id": "FG52-Zj60o2A"
      },
      "execution_count": null,
      "outputs": []
    },
    {
      "cell_type": "code",
      "source": [
        "data = [(\"john\",25,\"male\",30000),\n",
        "        (\"alice\",30,\"female\",50000),\n",
        "         (\"bob\",35,\"male\",45000),\n",
        "          (\"charlie\",40,\"male\",60000)]\n",
        "\n",
        "columns = [\"name\",\"age\",\"gender\",\"salary\"]\n",
        "df = spark.createDataFrame(data,columns)\n",
        "df.show()"
      ],
      "metadata": {
        "colab": {
          "base_uri": "https://localhost:8080/"
        },
        "id": "_3DFgQEY0yCP",
        "outputId": "f83aa4b0-ad0d-4323-f71e-1dea1937d8a9"
      },
      "execution_count": null,
      "outputs": [
        {
          "output_type": "stream",
          "name": "stdout",
          "text": [
            "+-------+---+------+------+\n",
            "|   name|age|gender|salary|\n",
            "+-------+---+------+------+\n",
            "|   john| 25|  male| 30000|\n",
            "|  alice| 30|female| 50000|\n",
            "|    bob| 35|  male| 45000|\n",
            "|charlie| 40|  male| 60000|\n",
            "+-------+---+------+------+\n",
            "\n"
          ]
        }
      ]
    },
    {
      "cell_type": "code",
      "source": [
        "print(\"\\selecting columns:\")\n",
        "df.select(\"name\",\"age\").show()"
      ],
      "metadata": {
        "colab": {
          "base_uri": "https://localhost:8080/"
        },
        "id": "gpAAhW3V1nKB",
        "outputId": "151d8db7-6e03-4685-a08e-38ad43b966c6"
      },
      "execution_count": null,
      "outputs": [
        {
          "output_type": "stream",
          "name": "stderr",
          "text": [
            "<>:1: SyntaxWarning: invalid escape sequence '\\s'\n",
            "<>:1: SyntaxWarning: invalid escape sequence '\\s'\n",
            "/tmp/ipython-input-3464921491.py:1: SyntaxWarning: invalid escape sequence '\\s'\n",
            "  print(\"\\selecting columns:\")\n"
          ]
        },
        {
          "output_type": "stream",
          "name": "stdout",
          "text": [
            "\\selecting columns:\n",
            "+-------+---+\n",
            "|   name|age|\n",
            "+-------+---+\n",
            "|   john| 25|\n",
            "|  alice| 30|\n",
            "|    bob| 35|\n",
            "|charlie| 40|\n",
            "+-------+---+\n",
            "\n"
          ]
        }
      ]
    },
    {
      "cell_type": "code",
      "source": [
        "print(\"\\nfiltering data:\")\n",
        "df.filter(col(\"age\")>30).show()"
      ],
      "metadata": {
        "colab": {
          "base_uri": "https://localhost:8080/"
        },
        "id": "Am0Pibb113rz",
        "outputId": "1acaee37-cd8b-4022-cf45-c1bd531dedde"
      },
      "execution_count": null,
      "outputs": [
        {
          "output_type": "stream",
          "name": "stdout",
          "text": [
            "\n",
            "filtering data:\n",
            "+-------+---+------+------+\n",
            "|   name|age|gender|salary|\n",
            "+-------+---+------+------+\n",
            "|    bob| 35|  male| 45000|\n",
            "|charlie| 40|  male| 60000|\n",
            "+-------+---+------+------+\n",
            "\n"
          ]
        }
      ]
    },
    {
      "cell_type": "code",
      "source": [
        "print(\"\\ngrouping and aggregating data:\")\n",
        "df.groupBy(\"gender\").agg(count(\"*\").alias(\"count\"),sum(\"salary\").alias(\"total_salary\"),avg(\"age\").alias(\"avg_age\")).show()"
      ],
      "metadata": {
        "colab": {
          "base_uri": "https://localhost:8080/"
        },
        "id": "2SHGxvLZ2CYh",
        "outputId": "dc6b699d-da29-43f1-ce11-bb138371e5db"
      },
      "execution_count": null,
      "outputs": [
        {
          "output_type": "stream",
          "name": "stdout",
          "text": [
            "\n",
            "grouping and aggregating data:\n",
            "+------+-----+------------+------------------+\n",
            "|gender|count|total_salary|           avg_age|\n",
            "+------+-----+------------+------------------+\n",
            "|female|    1|       50000|              30.0|\n",
            "|  male|    3|      135000|33.333333333333336|\n",
            "+------+-----+------------+------------------+\n",
            "\n"
          ]
        }
      ]
    },
    {
      "cell_type": "code",
      "source": [
        "print(\"\\nJoining Dataframes\")\n",
        "df1 = df.alias(\"df1\")\n",
        "df2 = df.alias(\"df2\")\n",
        "joined_df = df1.join(df2, col(\"df1.name\") == col(\"df2.name\"),\"inner\").select(col(\"df1.name\"), col(\"df1.age\"), col(\"df2.salary\"))\n",
        "joined_df.show()"
      ],
      "metadata": {
        "colab": {
          "base_uri": "https://localhost:8080/"
        },
        "id": "duPrWQQ52kxM",
        "outputId": "04533200-d967-42ea-e17a-be1587ec654d"
      },
      "execution_count": null,
      "outputs": [
        {
          "output_type": "stream",
          "name": "stdout",
          "text": [
            "\n",
            "Joining Dataframes\n",
            "+-------+---+------+\n",
            "|   name|age|salary|\n",
            "+-------+---+------+\n",
            "|  alice| 30| 50000|\n",
            "|    bob| 35| 45000|\n",
            "|charlie| 40| 60000|\n",
            "|   john| 25| 30000|\n",
            "+-------+---+------+\n",
            "\n"
          ]
        }
      ]
    },
    {
      "cell_type": "code",
      "source": [
        "print(\"\\nSorting Data:\")\n",
        "df.sort(\"age\",ascending=False).show()\n"
      ],
      "metadata": {
        "colab": {
          "base_uri": "https://localhost:8080/"
        },
        "id": "i8VqSLDs4RUh",
        "outputId": "19c9f0df-57ac-46e1-81b7-cb9b23e3e7f6"
      },
      "execution_count": null,
      "outputs": [
        {
          "output_type": "stream",
          "name": "stdout",
          "text": [
            "\n",
            "Sorting Data:\n",
            "+-------+---+------+------+\n",
            "|   name|age|gender|salary|\n",
            "+-------+---+------+------+\n",
            "|charlie| 40|  male| 60000|\n",
            "|    bob| 35|  male| 45000|\n",
            "|  alice| 30|female| 50000|\n",
            "|   john| 25|  male| 30000|\n",
            "+-------+---+------+------+\n",
            "\n"
          ]
        }
      ]
    },
    {
      "cell_type": "code",
      "source": [
        "print(\"\\adding and removing columns:\")\n",
        "df = df.withColumn(\"bonus\",col(\"salary\")*0.1)\n",
        "df.show()\n"
      ],
      "metadata": {
        "colab": {
          "base_uri": "https://localhost:8080/"
        },
        "id": "MB4rvOg74vP4",
        "outputId": "68289d6b-dc7e-4a00-9a25-fd85e4e00c48"
      },
      "execution_count": null,
      "outputs": [
        {
          "output_type": "stream",
          "name": "stdout",
          "text": [
            "\u0007dding and removing columns:\n",
            "+-------+---+------+------+------+\n",
            "|   name|age|gender|salary| bonus|\n",
            "+-------+---+------+------+------+\n",
            "|   john| 25|  male| 30000|3000.0|\n",
            "|  alice| 30|female| 50000|5000.0|\n",
            "|    bob| 35|  male| 45000|4500.0|\n",
            "|charlie| 40|  male| 60000|6000.0|\n",
            "+-------+---+------+------+------+\n",
            "\n"
          ]
        }
      ]
    },
    {
      "cell_type": "code",
      "source": [
        "df = df.drop(\"bonus\")\n",
        "df.show()"
      ],
      "metadata": {
        "colab": {
          "base_uri": "https://localhost:8080/"
        },
        "id": "iGazdEp65bbQ",
        "outputId": "327abef6-ad6a-4fe6-abc0-477e9c6a23bc"
      },
      "execution_count": null,
      "outputs": [
        {
          "output_type": "stream",
          "name": "stdout",
          "text": [
            "+-------+---+------+------+\n",
            "|   name|age|gender|salary|\n",
            "+-------+---+------+------+\n",
            "|   john| 25|  male| 30000|\n",
            "|  alice| 30|female| 50000|\n",
            "|    bob| 35|  male| 45000|\n",
            "|charlie| 40|  male| 60000|\n",
            "+-------+---+------+------+\n",
            "\n"
          ]
        }
      ]
    }
  ]
}