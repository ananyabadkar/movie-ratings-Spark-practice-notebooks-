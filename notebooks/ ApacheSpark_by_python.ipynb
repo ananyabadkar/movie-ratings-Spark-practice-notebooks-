{
  "nbformat": 4,
  "nbformat_minor": 0,
  "metadata": {
    "colab": {
      "provenance": [],
      "authorship_tag": "ABX9TyMtwPHjBJ4XK+zoMCHd4Pcc",
      "include_colab_link": true
    },
    "kernelspec": {
      "name": "python3",
      "display_name": "Python 3"
    },
    "language_info": {
      "name": "python"
    }
  },
  "cells": [
    {
      "cell_type": "markdown",
      "metadata": {
        "id": "view-in-github",
        "colab_type": "text"
      },
      "source": [
        "<a href=\"https://colab.research.google.com/github/ananyabadkar/movie-ratings-Spark-practice-notebooks-/blob/main/notebooks/%20ApacheSpark_by_python.ipynb\" target=\"_parent\"><img src=\"https://colab.research.google.com/assets/colab-badge.svg\" alt=\"Open In Colab\"/></a>"
      ]
    },
    {
      "cell_type": "code",
      "execution_count": 1,
      "metadata": {
        "id": "Pny1sBlKlfhD"
      },
      "outputs": [],
      "source": [
        "# Install pyspark\n",
        "!pip install pyspark -q\n"
      ]
    },
    {
      "cell_type": "code",
      "source": [
        "from pyspark.sql import SparkSession\n",
        "import numpy as np\n",
        "import pandas as pd\n",
        "import matplotlib.pyplot as plt"
      ],
      "metadata": {
        "id": "SrqE2FQVlioH"
      },
      "execution_count": 2,
      "outputs": []
    },
    {
      "cell_type": "code",
      "source": [
        "data = [(\"alice\", 34 , \"engineer\"),\n",
        "(\"bob\", 45 , \"manager\"),\n",
        "(\"charlie\", 25 , \"data analyst\"),\n",
        "(\"david\", 37 , \"researcher\")]\n",
        "columns= [\"name\",\"age\", \"occupation\"]\n",
        "spark = SparkSession.builder.appName(\"pyspark apllication with python libraries\").getOrCreate()\n",
        "df = spark.createDataFrame(data, columns)"
      ],
      "metadata": {
        "id": "9ccmeD-XmAFP"
      },
      "execution_count": 6,
      "outputs": []
    },
    {
      "cell_type": "code",
      "source": [
        "#convert df to pandas\n",
        "pandas_df=df.toPandas()"
      ],
      "metadata": {
        "id": "4KhUJBcmnxqx"
      },
      "execution_count": 7,
      "outputs": []
    },
    {
      "cell_type": "code",
      "source": [
        "#use pandas to filter data\n",
        "filtered_df = pandas_df[pandas_df[\"age\"] > 30]"
      ],
      "metadata": {
        "id": "Nr5wp9Lvn32d"
      },
      "execution_count": 14,
      "outputs": []
    },
    {
      "cell_type": "code",
      "source": [
        "#group by occupation and calculate average age\n",
        "avg_age_by_occupation = filtered_df.groupby('occupation')['age'].mean()"
      ],
      "metadata": {
        "id": "VqXqpzJdoRX5"
      },
      "execution_count": 20,
      "outputs": []
    },
    {
      "cell_type": "code",
      "source": [
        "print(\"\\n avg_age_by_occupation\")\n",
        "print(avg_age_by_occupation)"
      ],
      "metadata": {
        "colab": {
          "base_uri": "https://localhost:8080/"
        },
        "id": "BKTrOufNou-F",
        "outputId": "ec493354-6ac8-450c-df75-5336b4cd3a13"
      },
      "execution_count": 21,
      "outputs": [
        {
          "output_type": "stream",
          "name": "stdout",
          "text": [
            "\n",
            " avg_age_by_occupation\n",
            "occupation\n",
            "engineer      34.0\n",
            "manager       45.0\n",
            "researcher    37.0\n",
            "Name: age, dtype: float64\n"
          ]
        }
      ]
    },
    {
      "cell_type": "code",
      "source": [
        "mean_age = np.mean(filtered_df[\"age\"])\n"
      ],
      "metadata": {
        "id": "MIIoQTjKpaAv"
      },
      "execution_count": 22,
      "outputs": []
    },
    {
      "cell_type": "code",
      "source": [
        "plt.hist(filtered_df[\"age\"], bins=3, color=\"red\", edgecolor='black')\n",
        "plt.title(\"Age Distribution (filtered)\")\n",
        "plt.xlabel(\"Age\")\n",
        "plt.ylabel(\"Frequency\")\n",
        "plt.show()"
      ],
      "metadata": {
        "colab": {
          "base_uri": "https://localhost:8080/",
          "height": 472
        },
        "id": "Re8AbTjhqKai",
        "outputId": "0a4f7fba-4df6-4c74-a225-8f5beba20c68"
      },
      "execution_count": 24,
      "outputs": [
        {
          "output_type": "display_data",
          "data": {
            "text/plain": [
              "<Figure size 640x480 with 1 Axes>"
            ],
            "image/png": "[encoded data removed]"
          },
          "metadata": {}
        }
      ]
    },
    {
      "cell_type": "code",
      "source": [
        "spark.stop()"
      ],
      "metadata": {
        "id": "pj_9rq5WqoUl"
      },
      "execution_count": 25,
      "outputs": []
    }
  ]
}