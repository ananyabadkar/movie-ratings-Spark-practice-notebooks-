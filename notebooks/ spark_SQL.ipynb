{
  "nbformat": 4,
  "nbformat_minor": 0,
  "metadata": {
    "colab": {
      "provenance": [],
      "authorship_tag": "ABX9TyNCdwSSdAPdcnBGTdbJQGb1",
      "include_colab_link": true
    },
    "kernelspec": {
      "name": "python3",
      "display_name": "Python 3"
    },
    "language_info": {
      "name": "python"
    }
  },
  "cells": [
    {
      "cell_type": "markdown",
      "metadata": {
        "id": "view-in-github",
        "colab_type": "text"
      },
      "source": [
        "<a href=\"https://colab.research.google.com/github/ananyabadkar/movie-ratings-Spark-practice-notebooks-/blob/main/notebooks/%20spark_SQL.ipynb\" target=\"_parent\"><img src=\"https://colab.research.google.com/assets/colab-badge.svg\" alt=\"Open In Colab\"/></a>"
      ]
    },
    {
      "cell_type": "code",
      "execution_count": null,
      "metadata": {
        "id": "aCcvqoZD7bVa"
      },
      "outputs": [],
      "source": [
        "!pip install pyspark -q"
      ]
    },
    {
      "cell_type": "code",
      "source": [
        "from pyspark.sql import SparkSession\n",
        "from pyspark.sql.functions import col,expr"
      ],
      "metadata": {
        "id": "5aMLBKNHVMGa"
      },
      "execution_count": null,
      "outputs": []
    },
    {
      "cell_type": "code",
      "source": [
        "#spark session\n",
        "spark = SparkSession.builder.appName('Spark SQL Demo').getOrCreate()"
      ],
      "metadata": {
        "id": "oKq8dylhVvnA"
      },
      "execution_count": null,
      "outputs": []
    },
    {
      "cell_type": "code",
      "source": [
        "#sample data\n",
        "data = [(\"alice\", 34, \"engineering\"),\n",
        "        (\"bob\", 25, \"marketing\"),\n",
        "         (\"charlie\", 45, \"engineering\"),\n",
        "          (\"david\", 37, \"sales\")]\n",
        "column = [\"name\", \"age\", \"department\"]\n",
        "df = spark.createDataFrame(data, column)"
      ],
      "metadata": {
        "id": "U0TOE5KtV_9m"
      },
      "execution_count": null,
      "outputs": []
    },
    {
      "cell_type": "code",
      "source": [
        "#create dataframe\n",
        "df.createOrReplaceTempView(\"employee\")"
      ],
      "metadata": {
        "id": "prZLzKRRWsIt"
      },
      "execution_count": null,
      "outputs": []
    },
    {
      "cell_type": "code",
      "source": [
        "#perform SQL queries\n",
        "query1 = \"SELECT name,age FROM employee WHERE department = 'engineering'\"\n",
        "result1 = spark.sql(query1)\n"
      ],
      "metadata": {
        "id": "etTCojNvW6kV"
      },
      "execution_count": null,
      "outputs": []
    },
    {
      "cell_type": "code",
      "source": [
        "query2 = \"\"\" SELECT department ,AVG(age) AS avg_age\n",
        "            FROM employee\n",
        "            GROUP BY department\n",
        "            ORDER BY avg_age DESC\"\"\"\n",
        "result2 = spark.sql(query2)"
      ],
      "metadata": {
        "id": "WADWJ2ksXXhD"
      },
      "execution_count": null,
      "outputs": []
    },
    {
      "cell_type": "code",
      "source": [
        "#dataframe operation\n",
        "result3 = df.select(\"name\",\"department\").filter(col(\"age\")> 30)"
      ],
      "metadata": {
        "id": "FMSke_PzXogL"
      },
      "execution_count": null,
      "outputs": []
    },
    {
      "cell_type": "code",
      "source": [
        "\n",
        "result4 = df.withColumn(\"statu\",expr (\"CASE WHEN age < 30 THEN 'young' ELSE 'mature' END\"))"
      ],
      "metadata": {
        "id": "Q-vBWn8ZX_LD"
      },
      "execution_count": null,
      "outputs": []
    },
    {
      "cell_type": "code",
      "source": [
        "print(\"Result 1:\")\n",
        "result1.show()\n",
        "print(\"Result 2:\")\n",
        "result2.show()\n",
        "print(\"Result 3:\")\n",
        "result3.show()\n",
        "print(\"Result 4:\")\n",
        "result4.show()"
      ],
      "metadata": {
        "colab": {
          "base_uri": "https://localhost:8080/"
        },
        "id": "dG0aC8urYb8z",
        "outputId": "0886cce2-fee7-42c9-895e-eaf05c3cca77"
      },
      "execution_count": null,
      "outputs": [
        {
          "output_type": "stream",
          "name": "stdout",
          "text": [
            "Result 1:\n",
            "+-------+---+\n",
            "|   name|age|\n",
            "+-------+---+\n",
            "|  alice| 34|\n",
            "|charlie| 45|\n",
            "+-------+---+\n",
            "\n",
            "Result 2:\n",
            "+-----------+-------+\n",
            "| department|avg_age|\n",
            "+-----------+-------+\n",
            "|engineering|   39.5|\n",
            "|      sales|   37.0|\n",
            "|  marketing|   25.0|\n",
            "+-----------+-------+\n",
            "\n",
            "Result 3:\n",
            "+-------+-----------+\n",
            "|   name| department|\n",
            "+-------+-----------+\n",
            "|  alice|engineering|\n",
            "|charlie|engineering|\n",
            "|  david|      sales|\n",
            "+-------+-----------+\n",
            "\n",
            "Result 4:\n",
            "+-------+---+-----------+------+\n",
            "|   name|age| department| statu|\n",
            "+-------+---+-----------+------+\n",
            "|  alice| 34|engineering|mature|\n",
            "|    bob| 25|  marketing| young|\n",
            "|charlie| 45|engineering|mature|\n",
            "|  david| 37|      sales|mature|\n",
            "+-------+---+-----------+------+\n",
            "\n"
          ]
        }
      ]
    },
    {
      "cell_type": "code",
      "source": [
        "spark.stop()"
      ],
      "metadata": {
        "id": "XTBiHBEaYsfo"
      },
      "execution_count": null,
      "outputs": []
    }
  ]
}